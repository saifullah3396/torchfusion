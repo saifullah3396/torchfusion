{
 "cells": [
  {
   "cell_type": "code",
   "execution_count": 6,
   "metadata": {},
   "outputs": [
    {
     "name": "stdout",
     "output_type": "stream",
     "text": [
      "The autoreload extension is already loaded. To reload it, use:\n",
      "  %reload_ext autoreload\n"
     ]
    }
   ],
   "source": [
    "%load_ext autoreload\n",
    "%autoreload 2"
   ]
  },
  {
   "cell_type": "code",
   "execution_count": 7,
   "metadata": {},
   "outputs": [
    {
     "name": "stdout",
     "output_type": "stream",
     "text": [
      "Adding source path:  /home/ataraxia/Projects/torchfusionv2/src\n",
      "Using configs path:  /home/ataraxia/Projects/torchfusionv2/cfg\n"
     ]
    }
   ],
   "source": [
    "import os \n",
    "import sys \n",
    "\n",
    "os.environ['DATA_ROOT_DIR'] = '/home/ataraxia/Datasets/'\n",
    "os.environ['TORCH_FUSION_CACHE_DIR'] = '/home/ataraxia/torchfusion/cache/'\n",
    "os.environ['TORCH_FUSION_OUTPUT_DIR'] = '/home/ataraxia/torchfusion/output/torchfusion'\n",
    "\n",
    "PATH_TO_SOURCE_DIR = os.path.abspath(\"../../../src/\")\n",
    "PATH_TO_CONFIGS_DIR = os.path.abspath(\"../../../cfg/\")\n",
    "sys.path.append(PATH_TO_SOURCE_DIR)\n",
    "\n",
    "print(\"Adding source path: \", PATH_TO_SOURCE_DIR)\n",
    "print(\"Using configs path: \", PATH_TO_CONFIGS_DIR)"
   ]
  },
  {
   "cell_type": "code",
   "execution_count": 8,
   "metadata": {},
   "outputs": [],
   "source": [
    "from torchfusion.core.training.utilities.constants import TrainingStage\n",
    "from hydra import compose, initialize, initialize_config_dir\n",
    "from hydra.core.global_hydra import GlobalHydra\n",
    "from omegaconf import OmegaConf\n",
    "from hydra.core.hydra_config import HydraConfig\n",
    "from torchfusion.core.args.args import FusionArguments\n",
    "from torchfusion.utilities.dataclasses.dacite_wrapper import from_dict\n",
    "from torchfusion.core.training.fusion_trainer import FusionTrainer"
   ]
  },
  {
   "cell_type": "code",
   "execution_count": 9,
   "metadata": {},
   "outputs": [
    {
     "ename": "ConfigCompositionException",
     "evalue": "In 'run/prepare_image_dataset': Could not override 'args/data_args/train_val_sampler'. No match in the defaults list.",
     "output_type": "error",
     "traceback": [
      "\u001b[0;31m---------------------------------------------------------------------------\u001b[0m",
      "\u001b[0;31mConfigCompositionException\u001b[0m                Traceback (most recent call last)",
      "Cell \u001b[0;32mIn[9], line 40\u001b[0m\n\u001b[1;32m     36\u001b[0m     \u001b[38;5;28mprint\u001b[39m(args)\n\u001b[1;32m     38\u001b[0m     \u001b[38;5;28;01mreturn\u001b[39;00m args, hydra_config\n\u001b[0;32m---> 40\u001b[0m args, hydra_config \u001b[38;5;241m=\u001b[39m \u001b[43minitialize_hydra\u001b[49m\u001b[43m(\u001b[49m\u001b[38;5;124;43m\"\u001b[39;49m\u001b[38;5;124;43mprepare_datasets\u001b[39;49m\u001b[38;5;124;43m\"\u001b[39;49m\u001b[43m)\u001b[49m\n",
      "Cell \u001b[0;32mIn[9], line 17\u001b[0m, in \u001b[0;36minitialize_hydra\u001b[0;34m(config_path)\u001b[0m\n\u001b[1;32m      8\u001b[0m \u001b[38;5;66;03m# compose a hydra config from the path given\u001b[39;00m\n\u001b[1;32m      9\u001b[0m overrides \u001b[38;5;241m=\u001b[39m [\n\u001b[1;32m     10\u001b[0m     \u001b[38;5;124m\"\u001b[39m\u001b[38;5;124m+run=prepare_image_dataset\u001b[39m\u001b[38;5;124m\"\u001b[39m,\n\u001b[1;32m     11\u001b[0m     \u001b[38;5;124m\"\u001b[39m\u001b[38;5;124mdataset_config_name=default\u001b[39m\u001b[38;5;124m\"\u001b[39m,\n\u001b[0;32m   (...)\u001b[0m\n\u001b[1;32m     15\u001b[0m     \u001b[38;5;124m\"\u001b[39m\u001b[38;5;124mimage_size_y=224\u001b[39m\u001b[38;5;124m\"\u001b[39m,\n\u001b[1;32m     16\u001b[0m ]\n\u001b[0;32m---> 17\u001b[0m cfg \u001b[38;5;241m=\u001b[39m \u001b[43mcompose\u001b[49m\u001b[43m(\u001b[49m\u001b[43mconfig_name\u001b[49m\u001b[38;5;241;43m=\u001b[39;49m\u001b[38;5;124;43m\"\u001b[39;49m\u001b[38;5;124;43mhydra.yaml\u001b[39;49m\u001b[38;5;124;43m\"\u001b[39;49m\u001b[43m,\u001b[49m\u001b[43m \u001b[49m\u001b[43moverrides\u001b[49m\u001b[38;5;241;43m=\u001b[39;49m\u001b[43moverrides\u001b[49m\u001b[43m,\u001b[49m\u001b[43m \u001b[49m\u001b[43mreturn_hydra_config\u001b[49m\u001b[38;5;241;43m=\u001b[39;49m\u001b[38;5;28;43;01mTrue\u001b[39;49;00m\u001b[43m)\u001b[49m\n\u001b[1;32m     18\u001b[0m hydra_config \u001b[38;5;241m=\u001b[39m cfg[\u001b[38;5;124m'\u001b[39m\u001b[38;5;124mhydra\u001b[39m\u001b[38;5;124m'\u001b[39m]\n\u001b[1;32m     19\u001b[0m hydra_config\u001b[38;5;241m.\u001b[39mruntime\u001b[38;5;241m.\u001b[39moutput_dir \u001b[38;5;241m=\u001b[39m \u001b[38;5;124m'\u001b[39m\u001b[38;5;124m./\u001b[39m\u001b[38;5;124m'\u001b[39m\n",
      "File \u001b[0;32m~/.virtualenvs/torchfusion/lib/python3.10/site-packages/hydra/compose.py:38\u001b[0m, in \u001b[0;36mcompose\u001b[0;34m(config_name, overrides, return_hydra_config, strict)\u001b[0m\n\u001b[1;32m     36\u001b[0m gh \u001b[38;5;241m=\u001b[39m GlobalHydra\u001b[38;5;241m.\u001b[39minstance()\n\u001b[1;32m     37\u001b[0m \u001b[38;5;28;01massert\u001b[39;00m gh\u001b[38;5;241m.\u001b[39mhydra \u001b[38;5;129;01mis\u001b[39;00m \u001b[38;5;129;01mnot\u001b[39;00m \u001b[38;5;28;01mNone\u001b[39;00m\n\u001b[0;32m---> 38\u001b[0m cfg \u001b[38;5;241m=\u001b[39m \u001b[43mgh\u001b[49m\u001b[38;5;241;43m.\u001b[39;49m\u001b[43mhydra\u001b[49m\u001b[38;5;241;43m.\u001b[39;49m\u001b[43mcompose_config\u001b[49m\u001b[43m(\u001b[49m\n\u001b[1;32m     39\u001b[0m \u001b[43m    \u001b[49m\u001b[43mconfig_name\u001b[49m\u001b[38;5;241;43m=\u001b[39;49m\u001b[43mconfig_name\u001b[49m\u001b[43m,\u001b[49m\n\u001b[1;32m     40\u001b[0m \u001b[43m    \u001b[49m\u001b[43moverrides\u001b[49m\u001b[38;5;241;43m=\u001b[39;49m\u001b[43moverrides\u001b[49m\u001b[43m,\u001b[49m\n\u001b[1;32m     41\u001b[0m \u001b[43m    \u001b[49m\u001b[43mrun_mode\u001b[49m\u001b[38;5;241;43m=\u001b[39;49m\u001b[43mRunMode\u001b[49m\u001b[38;5;241;43m.\u001b[39;49m\u001b[43mRUN\u001b[49m\u001b[43m,\u001b[49m\n\u001b[1;32m     42\u001b[0m \u001b[43m    \u001b[49m\u001b[43mfrom_shell\u001b[49m\u001b[38;5;241;43m=\u001b[39;49m\u001b[38;5;28;43;01mFalse\u001b[39;49;00m\u001b[43m,\u001b[49m\n\u001b[1;32m     43\u001b[0m \u001b[43m    \u001b[49m\u001b[43mwith_log_configuration\u001b[49m\u001b[38;5;241;43m=\u001b[39;49m\u001b[38;5;28;43;01mFalse\u001b[39;49;00m\u001b[43m,\u001b[49m\n\u001b[1;32m     44\u001b[0m \u001b[43m\u001b[49m\u001b[43m)\u001b[49m\n\u001b[1;32m     45\u001b[0m \u001b[38;5;28;01massert\u001b[39;00m \u001b[38;5;28misinstance\u001b[39m(cfg, DictConfig)\n\u001b[1;32m     47\u001b[0m \u001b[38;5;28;01mif\u001b[39;00m \u001b[38;5;129;01mnot\u001b[39;00m return_hydra_config:\n",
      "File \u001b[0;32m~/.virtualenvs/torchfusion/lib/python3.10/site-packages/hydra/_internal/hydra.py:594\u001b[0m, in \u001b[0;36mHydra.compose_config\u001b[0;34m(self, config_name, overrides, run_mode, with_log_configuration, from_shell, validate_sweep_overrides)\u001b[0m\n\u001b[1;32m    576\u001b[0m \u001b[38;5;28;01mdef\u001b[39;00m \u001b[38;5;21mcompose_config\u001b[39m(\n\u001b[1;32m    577\u001b[0m     \u001b[38;5;28mself\u001b[39m,\n\u001b[1;32m    578\u001b[0m     config_name: Optional[\u001b[38;5;28mstr\u001b[39m],\n\u001b[0;32m   (...)\u001b[0m\n\u001b[1;32m    583\u001b[0m     validate_sweep_overrides: \u001b[38;5;28mbool\u001b[39m \u001b[38;5;241m=\u001b[39m \u001b[38;5;28;01mTrue\u001b[39;00m,\n\u001b[1;32m    584\u001b[0m ) \u001b[38;5;241m-\u001b[39m\u001b[38;5;241m>\u001b[39m DictConfig:\n\u001b[1;32m    585\u001b[0m \u001b[38;5;250m    \u001b[39m\u001b[38;5;124;03m\"\"\"\u001b[39;00m\n\u001b[1;32m    586\u001b[0m \u001b[38;5;124;03m    :param config_name:\u001b[39;00m\n\u001b[1;32m    587\u001b[0m \u001b[38;5;124;03m    :param overrides:\u001b[39;00m\n\u001b[0;32m   (...)\u001b[0m\n\u001b[1;32m    591\u001b[0m \u001b[38;5;124;03m    :return:\u001b[39;00m\n\u001b[1;32m    592\u001b[0m \u001b[38;5;124;03m    \"\"\"\u001b[39;00m\n\u001b[0;32m--> 594\u001b[0m     cfg \u001b[38;5;241m=\u001b[39m \u001b[38;5;28;43mself\u001b[39;49m\u001b[38;5;241;43m.\u001b[39;49m\u001b[43mconfig_loader\u001b[49m\u001b[38;5;241;43m.\u001b[39;49m\u001b[43mload_configuration\u001b[49m\u001b[43m(\u001b[49m\n\u001b[1;32m    595\u001b[0m \u001b[43m        \u001b[49m\u001b[43mconfig_name\u001b[49m\u001b[38;5;241;43m=\u001b[39;49m\u001b[43mconfig_name\u001b[49m\u001b[43m,\u001b[49m\n\u001b[1;32m    596\u001b[0m \u001b[43m        \u001b[49m\u001b[43moverrides\u001b[49m\u001b[38;5;241;43m=\u001b[39;49m\u001b[43moverrides\u001b[49m\u001b[43m,\u001b[49m\n\u001b[1;32m    597\u001b[0m \u001b[43m        \u001b[49m\u001b[43mrun_mode\u001b[49m\u001b[38;5;241;43m=\u001b[39;49m\u001b[43mrun_mode\u001b[49m\u001b[43m,\u001b[49m\n\u001b[1;32m    598\u001b[0m \u001b[43m        \u001b[49m\u001b[43mfrom_shell\u001b[49m\u001b[38;5;241;43m=\u001b[39;49m\u001b[43mfrom_shell\u001b[49m\u001b[43m,\u001b[49m\n\u001b[1;32m    599\u001b[0m \u001b[43m        \u001b[49m\u001b[43mvalidate_sweep_overrides\u001b[49m\u001b[38;5;241;43m=\u001b[39;49m\u001b[43mvalidate_sweep_overrides\u001b[49m\u001b[43m,\u001b[49m\n\u001b[1;32m    600\u001b[0m \u001b[43m    \u001b[49m\u001b[43m)\u001b[49m\n\u001b[1;32m    601\u001b[0m     \u001b[38;5;28;01mif\u001b[39;00m with_log_configuration:\n\u001b[1;32m    602\u001b[0m         configure_log(cfg\u001b[38;5;241m.\u001b[39mhydra\u001b[38;5;241m.\u001b[39mhydra_logging, cfg\u001b[38;5;241m.\u001b[39mhydra\u001b[38;5;241m.\u001b[39mverbose)\n",
      "File \u001b[0;32m~/.virtualenvs/torchfusion/lib/python3.10/site-packages/hydra/_internal/config_loader_impl.py:142\u001b[0m, in \u001b[0;36mConfigLoaderImpl.load_configuration\u001b[0;34m(self, config_name, overrides, run_mode, from_shell, validate_sweep_overrides)\u001b[0m\n\u001b[1;32m    133\u001b[0m \u001b[38;5;28;01mdef\u001b[39;00m \u001b[38;5;21mload_configuration\u001b[39m(\n\u001b[1;32m    134\u001b[0m     \u001b[38;5;28mself\u001b[39m,\n\u001b[1;32m    135\u001b[0m     config_name: Optional[\u001b[38;5;28mstr\u001b[39m],\n\u001b[0;32m   (...)\u001b[0m\n\u001b[1;32m    139\u001b[0m     validate_sweep_overrides: \u001b[38;5;28mbool\u001b[39m \u001b[38;5;241m=\u001b[39m \u001b[38;5;28;01mTrue\u001b[39;00m,\n\u001b[1;32m    140\u001b[0m ) \u001b[38;5;241m-\u001b[39m\u001b[38;5;241m>\u001b[39m DictConfig:\n\u001b[1;32m    141\u001b[0m     \u001b[38;5;28;01mtry\u001b[39;00m:\n\u001b[0;32m--> 142\u001b[0m         \u001b[38;5;28;01mreturn\u001b[39;00m \u001b[38;5;28;43mself\u001b[39;49m\u001b[38;5;241;43m.\u001b[39;49m\u001b[43m_load_configuration_impl\u001b[49m\u001b[43m(\u001b[49m\n\u001b[1;32m    143\u001b[0m \u001b[43m            \u001b[49m\u001b[43mconfig_name\u001b[49m\u001b[38;5;241;43m=\u001b[39;49m\u001b[43mconfig_name\u001b[49m\u001b[43m,\u001b[49m\n\u001b[1;32m    144\u001b[0m \u001b[43m            \u001b[49m\u001b[43moverrides\u001b[49m\u001b[38;5;241;43m=\u001b[39;49m\u001b[43moverrides\u001b[49m\u001b[43m,\u001b[49m\n\u001b[1;32m    145\u001b[0m \u001b[43m            \u001b[49m\u001b[43mrun_mode\u001b[49m\u001b[38;5;241;43m=\u001b[39;49m\u001b[43mrun_mode\u001b[49m\u001b[43m,\u001b[49m\n\u001b[1;32m    146\u001b[0m \u001b[43m            \u001b[49m\u001b[43mfrom_shell\u001b[49m\u001b[38;5;241;43m=\u001b[39;49m\u001b[43mfrom_shell\u001b[49m\u001b[43m,\u001b[49m\n\u001b[1;32m    147\u001b[0m \u001b[43m            \u001b[49m\u001b[43mvalidate_sweep_overrides\u001b[49m\u001b[38;5;241;43m=\u001b[39;49m\u001b[43mvalidate_sweep_overrides\u001b[49m\u001b[43m,\u001b[49m\n\u001b[1;32m    148\u001b[0m \u001b[43m        \u001b[49m\u001b[43m)\u001b[49m\n\u001b[1;32m    149\u001b[0m     \u001b[38;5;28;01mexcept\u001b[39;00m OmegaConfBaseException \u001b[38;5;28;01mas\u001b[39;00m e:\n\u001b[1;32m    150\u001b[0m         \u001b[38;5;28;01mraise\u001b[39;00m ConfigCompositionException()\u001b[38;5;241m.\u001b[39mwith_traceback(sys\u001b[38;5;241m.\u001b[39mexc_info()[\u001b[38;5;241m2\u001b[39m]) \u001b[38;5;28;01mfrom\u001b[39;00m \u001b[38;5;21;01me\u001b[39;00m\n",
      "File \u001b[0;32m~/.virtualenvs/torchfusion/lib/python3.10/site-packages/hydra/_internal/config_loader_impl.py:253\u001b[0m, in \u001b[0;36mConfigLoaderImpl._load_configuration_impl\u001b[0;34m(self, config_name, overrides, run_mode, from_shell, validate_sweep_overrides)\u001b[0m\n\u001b[1;32m    248\u001b[0m \u001b[38;5;28;01mif\u001b[39;00m validate_sweep_overrides:\n\u001b[1;32m    249\u001b[0m     \u001b[38;5;28mself\u001b[39m\u001b[38;5;241m.\u001b[39mvalidate_sweep_overrides_legal(\n\u001b[1;32m    250\u001b[0m         overrides\u001b[38;5;241m=\u001b[39mparsed_overrides, run_mode\u001b[38;5;241m=\u001b[39mrun_mode, from_shell\u001b[38;5;241m=\u001b[39mfrom_shell\n\u001b[1;32m    251\u001b[0m     )\n\u001b[0;32m--> 253\u001b[0m defaults_list \u001b[38;5;241m=\u001b[39m \u001b[43mcreate_defaults_list\u001b[49m\u001b[43m(\u001b[49m\n\u001b[1;32m    254\u001b[0m \u001b[43m    \u001b[49m\u001b[43mrepo\u001b[49m\u001b[38;5;241;43m=\u001b[39;49m\u001b[43mcaching_repo\u001b[49m\u001b[43m,\u001b[49m\n\u001b[1;32m    255\u001b[0m \u001b[43m    \u001b[49m\u001b[43mconfig_name\u001b[49m\u001b[38;5;241;43m=\u001b[39;49m\u001b[43mconfig_name\u001b[49m\u001b[43m,\u001b[49m\n\u001b[1;32m    256\u001b[0m \u001b[43m    \u001b[49m\u001b[43moverrides_list\u001b[49m\u001b[38;5;241;43m=\u001b[39;49m\u001b[43mparsed_overrides\u001b[49m\u001b[43m,\u001b[49m\n\u001b[1;32m    257\u001b[0m \u001b[43m    \u001b[49m\u001b[43mprepend_hydra\u001b[49m\u001b[38;5;241;43m=\u001b[39;49m\u001b[38;5;28;43;01mTrue\u001b[39;49;00m\u001b[43m,\u001b[49m\n\u001b[1;32m    258\u001b[0m \u001b[43m    \u001b[49m\u001b[43mskip_missing\u001b[49m\u001b[38;5;241;43m=\u001b[39;49m\u001b[43mrun_mode\u001b[49m\u001b[43m \u001b[49m\u001b[38;5;241;43m==\u001b[39;49m\u001b[43m \u001b[49m\u001b[43mRunMode\u001b[49m\u001b[38;5;241;43m.\u001b[39;49m\u001b[43mMULTIRUN\u001b[49m\u001b[43m,\u001b[49m\n\u001b[1;32m    259\u001b[0m \u001b[43m\u001b[49m\u001b[43m)\u001b[49m\n\u001b[1;32m    261\u001b[0m config_overrides \u001b[38;5;241m=\u001b[39m defaults_list\u001b[38;5;241m.\u001b[39mconfig_overrides\n\u001b[1;32m    263\u001b[0m cfg \u001b[38;5;241m=\u001b[39m \u001b[38;5;28mself\u001b[39m\u001b[38;5;241m.\u001b[39m_compose_config_from_defaults_list(\n\u001b[1;32m    264\u001b[0m     defaults\u001b[38;5;241m=\u001b[39mdefaults_list\u001b[38;5;241m.\u001b[39mdefaults, repo\u001b[38;5;241m=\u001b[39mcaching_repo\n\u001b[1;32m    265\u001b[0m )\n",
      "File \u001b[0;32m~/.virtualenvs/torchfusion/lib/python3.10/site-packages/hydra/_internal/defaults_list.py:752\u001b[0m, in \u001b[0;36mcreate_defaults_list\u001b[0;34m(repo, config_name, overrides_list, prepend_hydra, skip_missing)\u001b[0m\n\u001b[1;32m    744\u001b[0m overrides \u001b[38;5;241m=\u001b[39m Overrides(repo\u001b[38;5;241m=\u001b[39mrepo, overrides_list\u001b[38;5;241m=\u001b[39moverrides_list)\n\u001b[1;32m    745\u001b[0m defaults, tree \u001b[38;5;241m=\u001b[39m _create_defaults_list(\n\u001b[1;32m    746\u001b[0m     repo,\n\u001b[1;32m    747\u001b[0m     config_name,\n\u001b[0;32m   (...)\u001b[0m\n\u001b[1;32m    750\u001b[0m     skip_missing\u001b[38;5;241m=\u001b[39mskip_missing,\n\u001b[1;32m    751\u001b[0m )\n\u001b[0;32m--> 752\u001b[0m \u001b[43moverrides\u001b[49m\u001b[38;5;241;43m.\u001b[39;49m\u001b[43mensure_overrides_used\u001b[49m\u001b[43m(\u001b[49m\u001b[43m)\u001b[49m\n\u001b[1;32m    753\u001b[0m overrides\u001b[38;5;241m.\u001b[39mensure_deletions_used()\n\u001b[1;32m    754\u001b[0m \u001b[38;5;28;01mreturn\u001b[39;00m DefaultsList(\n\u001b[1;32m    755\u001b[0m     defaults\u001b[38;5;241m=\u001b[39mdefaults,\n\u001b[1;32m    756\u001b[0m     config_overrides\u001b[38;5;241m=\u001b[39moverrides\u001b[38;5;241m.\u001b[39mconfig_overrides,\n\u001b[1;32m    757\u001b[0m     defaults_tree\u001b[38;5;241m=\u001b[39mtree,\n\u001b[1;32m    758\u001b[0m     overrides\u001b[38;5;241m=\u001b[39moverrides,\n\u001b[1;32m    759\u001b[0m )\n",
      "File \u001b[0;32m~/.virtualenvs/torchfusion/lib/python3.10/site-packages/hydra/_internal/defaults_list.py:168\u001b[0m, in \u001b[0;36mOverrides.ensure_overrides_used\u001b[0;34m(self)\u001b[0m\n\u001b[1;32m    165\u001b[0m \u001b[38;5;28;01mif\u001b[39;00m meta\u001b[38;5;241m.\u001b[39mexternal_override:\n\u001b[1;32m    166\u001b[0m     msg \u001b[38;5;241m+\u001b[39m\u001b[38;5;241m=\u001b[39m \u001b[38;5;124mf\u001b[39m\u001b[38;5;124m\"\u001b[39m\u001b[38;5;130;01m\\n\u001b[39;00m\u001b[38;5;124mTo append to your default list use +\u001b[39m\u001b[38;5;132;01m{\u001b[39;00mkey\u001b[38;5;132;01m}\u001b[39;00m\u001b[38;5;124m=\u001b[39m\u001b[38;5;132;01m{\u001b[39;00m\u001b[38;5;28mself\u001b[39m\u001b[38;5;241m.\u001b[39moverride_choices[key]\u001b[38;5;132;01m}\u001b[39;00m\u001b[38;5;124m\"\u001b[39m\n\u001b[0;32m--> 168\u001b[0m \u001b[38;5;28;01mraise\u001b[39;00m ConfigCompositionException(msg)\n",
      "\u001b[0;31mConfigCompositionException\u001b[0m: In 'run/prepare_image_dataset': Could not override 'args/data_args/train_val_sampler'. No match in the defaults list."
     ]
    }
   ],
   "source": [
    "def initialize_hydra(config_path:str):\n",
    "    # clear previous instances of hydra\n",
    "    GlobalHydra.instance().clear() \n",
    "\n",
    "    # initialize hydra\n",
    "    initialize_config_dir(version_base=None, config_dir=f\"{PATH_TO_CONFIGS_DIR}/{config_path}\")\n",
    "\n",
    "    # compose a hydra config from the path given\n",
    "    overrides = [\n",
    "        \"+run=prepare_image_dataset\",\n",
    "        \"dataset_config_name=default\",\n",
    "        \"args/data_args=datasets/image_classification/cifar10\",\n",
    "        \"visualize=true\",\n",
    "        \"image_size_x=224\",\n",
    "        \"image_size_y=224\",\n",
    "    ]\n",
    "    cfg = compose(config_name=\"hydra.yaml\", overrides=overrides, return_hydra_config=True)\n",
    "    hydra_config = cfg['hydra']\n",
    "    hydra_config.runtime.output_dir = './'\n",
    "    cfg = OmegaConf.to_object(cfg['args'])\n",
    "    \n",
    "    # in case of notebooks we remove the analyzer arguments as the notebook itself runs the analysis code\n",
    "    if 'analyzer_args' in cfg:\n",
    "        cfg.pop('analyzer_args')\n",
    "    args = from_dict(data_class=FusionArguments, data=cfg)   \n",
    "    \n",
    "    # set tb logger to off\n",
    "    args.training_args.log_to_tb = False\n",
    "    \n",
    "    # you can update args here\n",
    "    # for example set train_val_sampler to None\n",
    "    args.train_val_sampler = None\n",
    "    \n",
    "    # print the default config that we received\n",
    "    print (\"Using the following configuration: \")\n",
    "    print(args)\n",
    "    \n",
    "    return args, hydra_config\n",
    "    \n",
    "args, hydra_config = initialize_hydra(\"prepare_datasets\")"
   ]
  },
  {
   "cell_type": "code",
   "execution_count": null,
   "metadata": {},
   "outputs": [
    {
     "name": "stderr",
     "output_type": "stream",
     "text": [
      "2024-04-17 19:32:00 ataraxia-B450-AORUS-ELITE torchfusion[29232] INFO Global seed set to 42\n",
      "2024-04-17 19:32:00 ataraxia-B450-AORUS-ELITE torchfusion[29232] INFO Setting output directory: ./\n",
      "2024-04-17 19:32:00 ataraxia-B450-AORUS-ELITE torchfusion[29232] INFO Setting up datamodule...\n",
      "2024-04-17 19:32:00 ataraxia-B450-AORUS-ELITE torchfusion[29232] INFO Defining [train] realtime transforms:\n",
      "2024-04-17 19:32:00 ataraxia-B450-AORUS-ELITE torchfusion[29232] INFO 0, image: [RandomHorizontalFlip(p=0.5), RandomCrop(size=(32, 32), padding=4), ToTensor()]\n",
      "2024-04-17 19:32:00 ataraxia-B450-AORUS-ELITE torchfusion[29232] INFO Defining [validation] realtime transforms:\n",
      "2024-04-17 19:32:00 ataraxia-B450-AORUS-ELITE torchfusion[29232] INFO 0, image: ToTensor()\n",
      "2024-04-17 19:32:00 ataraxia-B450-AORUS-ELITE torchfusion[29232] INFO Defining [test] realtime transforms:\n",
      "2024-04-17 19:32:00 ataraxia-B450-AORUS-ELITE torchfusion[29232] INFO 0, image: ToTensor()\n",
      "2024-04-17 19:32:00 ataraxia-B450-AORUS-ELITE torchfusion[29232] INFO Loading data for stage == train|test|val\n"
     ]
    },
    {
     "name": "stdout",
     "output_type": "stream",
     "text": [
      "Files already downloaded and verified\n"
     ]
    },
    {
     "name": "stderr",
     "output_type": "stream",
     "text": [
      "2024-04-17 19:32:00 ataraxia-B450-AORUS-ELITE torchfusion[29232] WARNING Using train set as validation set as no validation dataset exists. If this behavior is not required set, do_val=False in config.\n",
      "2024-04-17 19:32:00 ataraxia-B450-AORUS-ELITE torchfusion[29232] INFO Training set size = 50000\n",
      "2024-04-17 19:32:00 ataraxia-B450-AORUS-ELITE torchfusion[29232] INFO Validation set size = 50000\n"
     ]
    },
    {
     "name": "stdout",
     "output_type": "stream",
     "text": [
      "Files already downloaded and verified\n"
     ]
    },
    {
     "name": "stderr",
     "output_type": "stream",
     "text": [
      "2024-04-17 19:32:01 ataraxia-B450-AORUS-ELITE torchfusion[29232] INFO Test set size = 10000\n",
      "2024-04-17 19:32:01 ataraxia-B450-AORUS-ELITE torchfusion[29232] INFO Dataset loaded with following features: {'label': ['airplane', 'automobile', 'bird', 'cat', 'deer', 'dog', 'frog', 'horse', 'ship', 'truck']}\n",
      "2024-04-17 19:32:01 ataraxia-B450-AORUS-ELITE torchfusion[29232] INFO Number of labels = 10\n",
      "2024-04-17 19:32:01,509 ignite.distributed.auto.auto_dataloader INFO: Use data loader kwargs for dataset '<torchfusion.data.da': \n",
      "\t{'sampler': <torch.utils.data.sampler.SequentialSampler object at 0x7f252a24dc00>, 'batch_size': 4, 'collate_fn': BatchToTensorDataCollator(allowed_keys=None, type_map={'image': torch.float32, 'label': torch.int64}), 'num_workers': 1, 'pin_memory': True, 'shuffle': False, 'drop_last': False}\n"
     ]
    }
   ],
   "source": [
    "from dataclasses import dataclass, field\n",
    "from typing import Optional\n",
    "import torch\n",
    "import numpy as np\n",
    "from torch.utils.data import Subset\n",
    "from torchvision.transforms import Compose, ToTensor, Normalize, RandomHorizontalFlip, RandomCrop, Resize\n",
    "from torchfusion.core.constants import DataKeys\n",
    "from torchfusion.core.data.data_augmentations.general import DictTransform\n",
    "from torchfusion.core.data.utilities.containers import TransformsDict\n",
    "from torchfusion.core.models.utilities.data_collators import BatchToTensorDataCollator\n",
    "from torchfusion.utilities.logging import get_logger\n",
    "\n",
    "def get_trainer(pretrained_checkpoint=None):\n",
    "    trainer = FusionTrainer(args, hydra_config=hydra_config)\n",
    "\n",
    "    # setup training\n",
    "    trainer._setup_training(setup_tb_logger=False)\n",
    "\n",
    "    # setup base training functionality\n",
    "    if args.model_args is not None:\n",
    "        trainer._trainer_functionality = trainer._setup_trainer_functionality()\n",
    "\n",
    "    # create custom transforms. If not provided, transforms defined in the configuration file will be used\n",
    "    transforms = TransformsDict()\n",
    "    transforms.train = Compose([\n",
    "        DictTransform(key=DataKeys.IMAGE, transform=[RandomHorizontalFlip(), RandomCrop(32, padding=4), ToTensor()]),\n",
    "    ])\n",
    "    transforms.validation = Compose([\n",
    "        DictTransform(key=DataKeys.IMAGE, transform=ToTensor()),\n",
    "    ])\n",
    "    transforms.test = Compose([\n",
    "        DictTransform(key=DataKeys.IMAGE, transform=ToTensor()),\n",
    "    ])\n",
    "\n",
    "    # setup datamodule\n",
    "    trainer._datamodule = trainer._setup_datamodule(stage=None, realtime_transforms=transforms)\n",
    "\n",
    "    # setup model\n",
    "    if args.model_args is not None:\n",
    "        trainer._model = trainer._setup_model(\n",
    "            summarize=True,\n",
    "            stage=TrainingStage.test,\n",
    "            checkpoint=pretrained_checkpoint\n",
    "        )    \n",
    "\n",
    "    # now assign collate fns from the model if available\n",
    "    if args.model_args is not None:\n",
    "        collate_fns = trainer._model.get_data_collators()\n",
    "        trainer._datamodule._collate_fns = collate_fns\n",
    "        \n",
    "    # setup dataloaders\n",
    "    trainer._args.data_loader_args.dataloader_num_workers = 1\n",
    "    trainer._test_dataloader = trainer._datamodule.test_dataloader(\n",
    "        trainer._args.data_loader_args.per_device_eval_batch_size,\n",
    "        dataloader_num_workers=trainer._args.data_loader_args.dataloader_num_workers,\n",
    "        pin_memory=trainer._args.data_loader_args.pin_memory,\n",
    "    )\n",
    "    \n",
    "    return trainer\n",
    "\n",
    "trainer = get_trainer()"
   ]
  },
  {
   "cell_type": "code",
   "execution_count": null,
   "metadata": {},
   "outputs": [
    {
     "name": "stderr",
     "output_type": "stream",
     "text": [
      "2024-04-17 19:32:04 ataraxia-B450-AORUS-ELITE torchfusion[29232] INFO Batch information: \n",
      "2024-04-17 19:32:04 ataraxia-B450-AORUS-ELITE torchfusion[29232] INFO Batch element=image, shape=torch.Size([4, 3, 32, 32]), type=torch.float32\n",
      "Example: tensor([[[0.6196, 0.6235, 0.6471,  ..., 0.5373, 0.4941, 0.4549],\n",
      "         [0.5961, 0.5922, 0.6235,  ..., 0.5333, 0.4902, 0.4667],\n",
      "         [0.5922, 0.5922, 0.6196,  ..., 0.5451, 0.5098, 0.4706],\n",
      "         ...,\n",
      "         [0.2667, 0.1647, 0.1216,  ..., 0.1490, 0.0510, 0.1569],\n",
      "         [0.2392, 0.1922, 0.1373,  ..., 0.1020, 0.1137, 0.0784],\n",
      "         [0.2118, 0.2196, 0.1765,  ..., 0.0941, 0.1333, 0.0824]],\n",
      "\n",
      "        [[0.4392, 0.4353, 0.4549,  ..., 0.3725, 0.3569, 0.3333],\n",
      "         [0.4392, 0.4314, 0.4471,  ..., 0.3725, 0.3569, 0.3451],\n",
      "         [0.4314, 0.4275, 0.4353,  ..., 0.3843, 0.3725, 0.3490],\n",
      "         ...,\n",
      "         [0.4863, 0.3922, 0.3451,  ..., 0.3804, 0.2510, 0.3333],\n",
      "         [0.4549, 0.4000, 0.3333,  ..., 0.3216, 0.3216, 0.2510],\n",
      "         [0.4196, 0.4118, 0.3490,  ..., 0.3020, 0.3294, 0.2627]],\n",
      "\n",
      "        [[0.1922, 0.1843, 0.2000,  ..., 0.1412, 0.1412, 0.1294],\n",
      "         [0.2000, 0.1569, 0.1765,  ..., 0.1216, 0.1255, 0.1333],\n",
      "         [0.1843, 0.1294, 0.1412,  ..., 0.1333, 0.1333, 0.1294],\n",
      "         ...,\n",
      "         [0.6941, 0.5804, 0.5373,  ..., 0.5725, 0.4235, 0.4980],\n",
      "         [0.6588, 0.5804, 0.5176,  ..., 0.5098, 0.4941, 0.4196],\n",
      "         [0.6275, 0.5843, 0.5176,  ..., 0.4863, 0.5059, 0.4314]]])\n",
      "2024-04-17 19:32:04 ataraxia-B450-AORUS-ELITE torchfusion[29232] INFO Batch element=label, shape=torch.Size([4]), type=torch.int64\n",
      "Example: 3\n",
      "2024-04-17 19:32:04 ataraxia-B450-AORUS-ELITE torchfusion[29232] INFO Batch element=index, shape=torch.Size([4]), type=torch.int64\n",
      "Example: 0\n"
     ]
    },
    {
     "data": {
      "image/png": "[encoded data removed]",
      "text/plain": [
       "<Figure size 1000x260.87 with 1 Axes>"
      ]
     },
     "metadata": {},
     "output_type": "display_data"
    }
   ],
   "source": [
    "# setup dataloaders\n",
    "trainer._datamodule._collate_fns.test = BatchToTensorDataCollator(type_map={'image': torch.float32, 'label': torch.long})\n",
    "import torch\n",
    "with torch.no_grad():\n",
    "    for batch in trainer._test_dataloader:\n",
    "        image = batch['image']\n",
    "        image = image.cuda()\n",
    "        trainer._datamodule.show_batch(batch)\n",
    "        break"
   ]
  }
 ],
 "metadata": {
  "kernelspec": {
   "display_name": "torchfusion",
   "language": "python",
   "name": "python3"
  },
  "language_info": {
   "codemirror_mode": {
    "name": "ipython",
    "version": 3
   },
   "file_extension": ".py",
   "mimetype": "text/x-python",
   "name": "python",
   "nbconvert_exporter": "python",
   "pygments_lexer": "ipython3",
   "version": "3.10.12"
  }
 },
 "nbformat": 4,
 "nbformat_minor": 2
}
